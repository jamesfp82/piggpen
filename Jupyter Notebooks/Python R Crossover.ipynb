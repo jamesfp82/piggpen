{
 "cells": [
  {
   "cell_type": "markdown",
   "metadata": {},
   "source": [
    "<h2>Interfacing R from Python in Jupyter Notebook</h2>\n",
    "\n",
    "<a href=\"https://www.linkedin.com/pulse/interfacing-r-from-python-3-jupyter-notebook-jared-stufft/\">SRC: https://www.linkedin.com/pulse/interfacing-r-from-python-3-jupyter-notebook-jared-stufft/</a>"
   ]
  },
  {
   "cell_type": "markdown",
   "metadata": {},
   "source": [
    "<p>After installing rpy2 via pip, the following should be launced at the top of every crossover notebook.  rpy2 allows for the variables to cross over between kernels.  I'll demonstrate usage.</p>"
   ]
  },
  {
   "cell_type": "code",
   "execution_count": 3,
   "metadata": {},
   "outputs": [
    {
     "name": "stderr",
     "output_type": "stream",
     "text": [
      "C:\\Users\\james\\Python\\Python39\\lib\\site-packages\\rpy2\\robjects\\packages.py:366: UserWarning: The symbol 'quartz' is not in this R namespace/package.\n",
      "  warnings.warn(\n"
     ]
    }
   ],
   "source": [
    "import rpy2.rinterface\n",
    "%load_ext rpy2.ipython\n",
    "\n",
    "#Commonly used libraries for DS\n",
    "import pandas as pd\n",
    "import numpy as np\n",
    "import seaborn as sns\n",
    "import matplotlib.pyplot as plt"
   ]
  },
  {
   "cell_type": "markdown",
   "metadata": {},
   "source": [
    "<h4>Magic Commands</h4>\n",
    "<p>%load_ext rpy2.ipython above only needs to be run once per notebook.  This opens up the interface between the kernels.\n",
    "\n",
    "%%R at the start of a code block indicates that it should be interpreted by the R kernel instead of the Python kernel.  See example below.</p>"
   ]
  },
  {
   "cell_type": "code",
   "execution_count": 17,
   "metadata": {},
   "outputs": [
    {
     "name": "stdout",
     "output_type": "stream",
     "text": [
      "  [1] 5.1 4.9 4.7 4.6 5.0 5.4 4.6 5.0 4.4 4.9 5.4 4.8 4.8 4.3 5.8 5.7 5.4 5.1\n",
      " [19] 5.7 5.1 5.4 5.1 4.6 5.1 4.8 5.0 5.0 5.2 5.2 4.7 4.8 5.4 5.2 5.5 4.9 5.0\n",
      " [37] 5.5 4.9 4.4 5.1 5.0 4.5 4.4 5.0 5.1 4.8 5.1 4.6 5.3 5.0 7.0 6.4 6.9 5.5\n",
      " [55] 6.5 5.7 6.3 4.9 6.6 5.2 5.0 5.9 6.0 6.1 5.6 6.7 5.6 5.8 6.2 5.6 5.9 6.1\n",
      " [73] 6.3 6.1 6.4 6.6 6.8 6.7 6.0 5.7 5.5 5.5 5.8 6.0 5.4 6.0 6.7 6.3 5.6 5.5\n",
      " [91] 5.5 6.1 5.8 5.0 5.6 5.7 5.7 6.2 5.1 5.7 6.3 5.8 7.1 6.3 6.5 7.6 4.9 7.3\n",
      "[109] 6.7 7.2 6.5 6.4 6.8 5.7 5.8 6.4 6.5 7.7 7.7 6.0 6.9 5.6 7.7 6.3 6.7 7.2\n",
      "[127] 6.2 6.1 6.4 7.2 7.4 7.9 6.4 6.3 6.1 7.7 6.3 6.4 6.0 6.9 6.7 6.9 5.8 6.8\n",
      "[145] 6.7 6.7 6.3 6.5 6.2 5.9\n"
     ]
    }
   ],
   "source": [
    "%%R\n",
    "x <- iris$Sepal.Length\n",
    "print(x)"
   ]
  },
  {
   "cell_type": "markdown",
   "metadata": {},
   "source": [
    "<p>When running the above code, one thing that you might have noticed is that it runs slower than running on the native R kernel.  It might just be the passback for the print.  I wouldn't normally print an entire array of data, so it might be moot.\n",
    "\n",
    "This is great for using R, but what if I want to pass this variable to Python?\n",
    "\n",
    "<h4>Options and Dedicated Commands</h4>\n",
    "One option is to use dedicated commands <b>%Rget</b> and <b>%Rpush</b> are available, but you can also use <b>-i</b> (for input) and <b>-o</b> (for output) as options on the <b>%%R</b> magic command.  I'll demonstrate below the options method for passing an R object to Python.\n",
    "</p>"
   ]
  },
  {
   "cell_type": "code",
   "execution_count": 18,
   "metadata": {},
   "outputs": [],
   "source": [
    "%%R -o x\n",
    "x = iris$Sepal.Length"
   ]
  },
  {
   "cell_type": "markdown",
   "metadata": {},
   "source": [
    "And now `x` has been passed as a Python variable and can be used accordingly.  In the example below, I demonstrate how to pass the value of this variable as markdown output.  Note, to get it to display correctly, you need to click `</>` and select `text/markdown` (built-in) to have it display properly."
   ]
  },
  {
   "cell_type": "code",
   "execution_count": 19,
   "metadata": {},
   "outputs": [
    {
     "data": {
      "text/markdown": "The value of my variable `x` is: [5.1 4.9 4.7 4.6 5.  5.4 4.6 5.  4.4 4.9 5.4 4.8 4.8 4.3 5.8 5.7 5.4 5.1\n 5.7 5.1 5.4 5.1 4.6 5.1 4.8 5.  5.  5.2 5.2 4.7 4.8 5.4 5.2 5.5 4.9 5.\n 5.5 4.9 4.4 5.1 5.  4.5 4.4 5.  5.1 4.8 5.1 4.6 5.3 5.  7.  6.4 6.9 5.5\n 6.5 5.7 6.3 4.9 6.6 5.2 5.  5.9 6.  6.1 5.6 6.7 5.6 5.8 6.2 5.6 5.9 6.1\n 6.3 6.1 6.4 6.6 6.8 6.7 6.  5.7 5.5 5.5 5.8 6.  5.4 6.  6.7 6.3 5.6 5.5\n 5.5 6.1 5.8 5.  5.6 5.7 5.7 6.2 5.1 5.7 6.3 5.8 7.1 6.3 6.5 7.6 4.9 7.3\n 6.7 7.2 6.5 6.4 6.8 5.7 5.8 6.4 6.5 7.7 7.7 6.  6.9 5.6 7.7 6.3 6.7 7.2\n 6.2 6.1 6.4 7.2 7.4 7.9 6.4 6.3 6.1 7.7 6.3 6.4 6.  6.9 6.7 6.9 5.8 6.8\n 6.7 6.7 6.3 6.5 6.2 5.9] units.",
      "text/plain": "<IPython.core.display.Markdown object>"
     },
     "metadata": {},
     "output_type": "display_data"
    }
   ],
   "source": [
    "#%%\n",
    "\n",
    "# general pattern for displaying variable data as markdown\n",
    "\n",
    "from IPython.display import display, Markdown\n",
    "\n",
    "display(Markdown('The value of my variable `x` is: {} units.'.format(str(x))))"
   ]
  },
  {
   "cell_type": "markdown",
   "metadata": {},
   "source": [
    "Data can also go from Python to R.  In the following example, a pandas dataframe is created in Python and then plotted using R."
   ]
  },
  {
   "cell_type": "code",
   "execution_count": 5,
   "metadata": {},
   "outputs": [
    {
     "name": "stdout",
     "output_type": "stream",
     "text": [
      "   A   B\n",
      "0  1   1\n",
      "1  2   4\n",
      "2  3   9\n",
      "3  4  16\n",
      "4  5  25\n",
      "5  6  36\n"
     ]
    }
   ],
   "source": [
    "python_df = pd.DataFrame({'A':[1,2,3,4,5,6],'B':[1,4,9,16,25,36]})\n",
    "print(python_df)"
   ]
  },
  {
   "cell_type": "code",
   "execution_count": 9,
   "metadata": {},
   "outputs": [
    {
     "data": {
      "image/png": "[encoded data removed]"
     },
     "metadata": {},
     "output_type": "display_data"
    }
   ],
   "source": [
    "%%R -i python_df\n",
    "\n",
    "# -i input option brings the python dataframe into R\n",
    "\n",
    "plot(python_df,main='Python Dataframe Plotted in R',col='blue',pch=2)"
   ]
  },
  {
   "cell_type": "markdown",
   "metadata": {},
   "source": [
    "Finally, another example of sending data from R to Python.  Note that python_df is already known by R from previous code block, so we do not have to send it again.  Then we'll use some Python to see what is in these objects that were sent from R to Python."
   ]
  },
  {
   "cell_type": "code",
   "execution_count": 10,
   "metadata": {},
   "outputs": [],
   "source": [
    "%%R -o model -o coef\n",
    "# R to Python\n",
    "# the python_df variable is still in R\n",
    "# We can output the model object we create using -o option\n",
    "\n",
    "# Creating a linear model on the Python DF using R's lm() function\n",
    "model <- lm(B~A, data=python_df)\n",
    "coef <- model$coefficients"
   ]
  },
  {
   "cell_type": "code",
   "execution_count": 11,
   "metadata": {},
   "outputs": [
    {
     "name": "stdout",
     "output_type": "stream",
     "text": [
      "\n",
      "Call:\n",
      "lm(formula = B ~ A, data = python_df)\n",
      "\n",
      "Coefficients:\n",
      "(Intercept)            A  \n",
      "     -9.333        7.000  \n",
      "\n",
      "\n",
      "<class 'rpy2.robjects.vectors.ListVector'>\n",
      "----------------------------\n",
      "[-9.33333333  7.        ]\n",
      "<class 'numpy.ndarray'>\n",
      "----------------------------\n",
      "[-9.333333333333345, 7.000000000000002]\n",
      "<class 'list'>\n"
     ]
    }
   ],
   "source": [
    "# Show the model output as in R\n",
    "print(model)\n",
    "print(type(model))\n",
    "print('----------------------------')\n",
    "\n",
    "# Model coeffficients\n",
    "print(coef)\n",
    "print(type(coef))\n",
    "print('----------------------------')\n",
    "\n",
    "# The rpy2 objects can be turned into more native Python data structures\n",
    "coef_list = list(coef)\n",
    "print(coef_list)\n",
    "print(type(coef_list))"
   ]
  }
 ],
 "metadata": {
  "interpreter": {
   "hash": "b577f2f4b63812717168397c29dfaaf726a6a9de6b9f5d622bf85c3539fa9c12"
  },
  "kernelspec": {
   "display_name": "Python 3.9.5 64-bit ('Python39')",
   "name": "python3"
  },
  "language_info": {
   "codemirror_mode": {
    "name": "ipython",
    "version": 3
   },
   "file_extension": ".py",
   "mimetype": "text/x-python",
   "name": "python",
   "nbconvert_exporter": "python",
   "pygments_lexer": "ipython3",
   "version": "3.9.5"
  },
  "orig_nbformat": 2
 },
 "nbformat": 4,
 "nbformat_minor": 2
}