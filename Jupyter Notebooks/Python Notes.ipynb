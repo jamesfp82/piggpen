{
 "cells": [
  {
   "cell_type": "markdown",
   "metadata": {},
   "source": [
    "<h1>Python Crash Course Notes</h1>\n",
    "\n",
    "This notebook will serve as a quick reference for Python syntax for those that are familiar with coding in a language but not necessarily Python."
   ]
  },
  {
   "cell_type": "markdown",
   "metadata": {},
   "source": [
    "<h3 id=\"Basics\">Basics</h3>\n",
    "\n",
    "<strong>Variable Assignment</strong>: Variables are assigned using <code>=</code>.  In Python, typing is not required.  See example below."
   ]
  },
  {
   "cell_type": "code",
   "execution_count": 3,
   "metadata": {},
   "outputs": [],
   "source": [
    "x = 5"
   ]
  },
  {
   "cell_type": "markdown",
   "metadata": {},
   "source": [
    "<strong>Function Calls</strong>: Function calls in Python are the same as many other languages.  [functionName]()"
   ]
  },
  {
   "cell_type": "code",
   "execution_count": 4,
   "metadata": {},
   "outputs": [
    {
     "name": "stdout",
     "output_type": "stream",
     "text": [
      "5\n"
     ]
    }
   ],
   "source": [
    "print(x)"
   ]
  },
  {
   "cell_type": "markdown",
   "metadata": {},
   "source": [
    "<strong>Comment</strong>: In Python, comments begin with the <code>#</code> symbol.  This code is not read by the interpreter."
   ]
  },
  {
   "cell_type": "code",
   "execution_count": 5,
   "metadata": {},
   "outputs": [],
   "source": [
    "# This is a comment\n",
    "# Any line starting with a # will not be read by the interpreter\n",
    "# x = 5\n",
    "# print(x)"
   ]
  },
  {
   "cell_type": "markdown",
   "metadata": {},
   "source": [
    "<strong>Operators</strong>: <code>*</code> operator multiplies numbers as expected, but it is also overloaded to allow for [string]*[number].  This will cause the string to be repeated that many times.  The <code>+</code> operator is also overloaded, adding numbers or joining strings."
   ]
  },
  {
   "cell_type": "code",
   "execution_count": 1,
   "metadata": {},
   "outputs": [
    {
     "name": "stdout",
     "output_type": "stream",
     "text": [
      "word \n",
      "word word word word word \n",
      "word \n",
      "word word \n"
     ]
    }
   ],
   "source": [
    "word = \"word \"\n",
    "print(word)\n",
    "word = word * 5\n",
    "print(word)\n",
    "\n",
    "word = \"word \"\n",
    "print(word)\n",
    "word = word + word\n",
    "print(word)"
   ]
  },
  {
   "cell_type": "markdown",
   "metadata": {},
   "source": [
    "See this table for a larger list of Python operators.\n",
    "\n",
    "<table>\n",
    "<tr>\n",
    "    <td>Operator</td>\n",
    "    <td>Name</td>\n",
    "    <td>Description</td>\n",
    "</tr>\n",
    "<tr>\n",
    "    <td style=\"text-align:center\"><math xmlns='http://www.w3.org/1998/Math/MathML'> <mi> a </mi> <mo> + </mo> <mi> b </mi> </math></td>\n",
    "    <td>Addition</td>\n",
    "    <td>Sum of <math><mi>a</mi></math> and <math><mi>b</mi></math></td>\n",
    "</tr>\n",
    "<tr>\n",
    "    <td style=\"text-align:center\"><math xmlns='http://www.w3.org/1998/Math/MathML'> <mi> a </mi> <mo> - </mo> <mi> b </mi> </math></td>\n",
    "    <td>Subtraction</td>\n",
    "    <td>Difference of <math><mi>a</mi></math> and <math><mi>b</mi></math></td>\n",
    "</tr>\n",
    "<tr>\n",
    "    <td style=\"text-align:center\"><math xmlns='http://www.w3.org/1998/Math/MathML'> <mi> a </mi> <mo> * </mo> <mi> b </mi> </math></td>\n",
    "    <td>Multiplication</td>\n",
    "    <td>Product of <math><mi>a</mi></math> and <math><mi>b</mi></math></td>\n",
    "</tr>\n",
    "<tr>\n",
    "    <td style=\"text-align:center\"><math xmlns='http://www.w3.org/1998/Math/MathML'> <mi> a </mi> <mo> / </mo> <mi> b </mi> </math></td>\n",
    "    <td>True Division</td>\n",
    "    <td>Quotient of <math><mi>a</mi></math> and <math><mi>b</mi></math></td>\n",
    "</tr>\n",
    "<tr>\n",
    "    <td style=\"text-align:center\"><math xmlns='http://www.w3.org/1998/Math/MathML'> <mi> a </mi> <mo> // </mo> <mi> b </mi> </math></td>\n",
    "    <td>Integer Division</td>\n",
    "    <td>Quotient of <math><mi>a</mi></math> and <math><mi>b</mi></math>, removing fractional parts</td>\n",
    "</tr>\n",
    "<tr>\n",
    "    <td style=\"text-align:center\"><math xmlns='http://www.w3.org/1998/Math/MathML'> <mi> a </mi> <mo> % </mo> <mi> b </mi> </math></td>\n",
    "    <td>Modulus</td>\n",
    "    <td>Integer remainder after division of <math><mi>a </mi></math> by <math><mi>b</mi></math></td>\n",
    "</tr>\n",
    "<tr>\n",
    "    <td style=\"text-align:center\"><math xmlns='http://www.w3.org/1998/Math/MathML'> <mi> a </mi> <mo> ** </mo> <mi> b </mi> </math></td>\n",
    "    <td>Exponentiation</td>\n",
    "    <td><math><mi>a </mi></math>raised to the power of <math><mi>b</mi></math></td>\n",
    "</tr>\n",
    "<tr>\n",
    "    <td style=\"text-align:center\"><math xmlns='http://www.w3.org/1998/Math/MathML'> <mi> -a </mi></math></td>\n",
    "    <td>Negation</td>\n",
    "    <td>The negative of <math><mi>a</mi></math></td>\n",
    "</tr>"
   ]
  },
  {
   "cell_type": "markdown",
   "metadata": {},
   "source": [
    "<Strong>Builtin Functions</strong>: There are several builtin functions available out of the box.  I'll describe them briefly and then demonstrate their use (unless previously demonstrated) in the code below.<br><br>\n",
    "<p>\n",
    "<code>print()</code> - this function can take an input and displays the input in the terminal<br>\n",
    "<code>type()</code> - this function takes one input and returns the type for the input</br>\n",
    "<code>min()</code> - this function takes one or more arguments and returns the minimum value for the arguments<br>\n",
    "<code> max()</code> - this function takes one or more arguments and returns the maximum value for the arguments.<br>\n",
    "</p>"
   ]
  }
 ],
 "metadata": {
  "interpreter": {
   "hash": "b577f2f4b63812717168397c29dfaaf726a6a9de6b9f5d622bf85c3539fa9c12"
  },
  "kernelspec": {
   "display_name": "Python 3.9.5 64-bit ('Python39')",
   "name": "python3"
  },
  "language_info": {
   "codemirror_mode": {
    "name": "ipython",
    "version": 3
   },
   "file_extension": ".py",
   "mimetype": "text/x-python",
   "name": "python",
   "nbconvert_exporter": "python",
   "pygments_lexer": "ipython3",
   "version": "3.9.5"
  },
  "orig_nbformat": 3
 },
 "nbformat": 4,
 "nbformat_minor": 2
}