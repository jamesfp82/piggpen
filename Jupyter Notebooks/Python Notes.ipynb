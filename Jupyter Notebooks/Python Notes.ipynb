{
 "cells": [
  {
   "cell_type": "markdown",
   "metadata": {},
   "source": [
    "<h1>Python Crash Course Notes</h1>\n",
    "\n",
    "This notebook will serve as a quick reference for Python syntax for those that are familiar with coding in a language but not necessarily Python."
   ]
  },
  {
   "cell_type": "markdown",
   "metadata": {},
   "source": [
    "<h3 id=\"Basics\">Basics</h3>\n",
    "\n",
    "<strong>Variable Assignment</strong>: Variables are assigned using <code>=</code>.  In Python, typing is not required.  See example below."
   ]
  },
  {
   "cell_type": "code",
   "execution_count": 3,
   "metadata": {},
   "outputs": [],
   "source": [
    "x = 5"
   ]
  },
  {
   "cell_type": "markdown",
   "metadata": {},
   "source": [
    "<strong>Function Calls</strong>: Function calls in Python are the same as many other languages.  [functionName]()"
   ]
  },
  {
   "cell_type": "code",
   "execution_count": 4,
   "metadata": {},
   "outputs": [
    {
     "name": "stdout",
     "output_type": "stream",
     "text": [
      "5\n"
     ]
    }
   ],
   "source": [
    "print(x)"
   ]
  },
  {
   "cell_type": "markdown",
   "metadata": {},
   "source": [
    "<strong>Comment</strong>: In Python, comments begin with the <code>#</code> symbol.  This code is not read by the interpreter."
   ]
  },
  {
   "cell_type": "code",
   "execution_count": 5,
   "metadata": {},
   "outputs": [],
   "source": [
    "# This is a comment\n",
    "# Any line starting with a # will not be read by the interpreter\n",
    "# x = 5\n",
    "# print(x)"
   ]
  }
 ],
 "metadata": {
  "interpreter": {
   "hash": "b577f2f4b63812717168397c29dfaaf726a6a9de6b9f5d622bf85c3539fa9c12"
  },
  "kernelspec": {
   "display_name": "Python 3.9.5 64-bit ('Python39')",
   "name": "python3"
  },
  "language_info": {
   "codemirror_mode": {
    "name": "ipython",
    "version": 3
   },
   "file_extension": ".py",
   "mimetype": "text/x-python",
   "name": "python",
   "nbconvert_exporter": "python",
   "pygments_lexer": "ipython3",
   "version": "3.9.5"
  },
  "orig_nbformat": 3
 },
 "nbformat": 4,
 "nbformat_minor": 2
}