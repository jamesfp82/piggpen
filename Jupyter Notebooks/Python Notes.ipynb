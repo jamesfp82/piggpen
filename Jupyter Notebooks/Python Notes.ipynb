{
 "cells": [
  {
   "cell_type": "markdown",
   "metadata": {},
   "source": [
    "<h1>Python Crash Course Notes</h1>\n",
    "\n",
    "This notebook will serve as a quick reference for Python syntax for those that are familiar with coding in a language but not necessarily Python."
   ]
  },
  {
   "cell_type": "markdown",
   "metadata": {},
   "source": [
    "<h2>Table of Contents</h2>\n",
    "<ul>\n",
    "    <li><a href=\"#basics\">Basics</a></li>\n",
    "    <li><a href=\"#functions\">Functions</a></li>\n",
    "</ul>"
   ]
  },
  {
   "cell_type": "markdown",
   "metadata": {},
   "source": [
    "<h3 id=\"basics\">Basics</h3>\n",
    "\n",
    "<strong>Variable Assignment</strong>: Variables are assigned using <code>=</code>.  In Python, typing is not required.  See example below."
   ]
  },
  {
   "cell_type": "code",
   "execution_count": 3,
   "metadata": {},
   "outputs": [],
   "source": [
    "x = 5"
   ]
  },
  {
   "cell_type": "markdown",
   "metadata": {},
   "source": [
    "<strong>Function Calls</strong>: Function calls in Python are the same as many other languages.  <code>functionName()</code>"
   ]
  },
  {
   "cell_type": "code",
   "execution_count": 4,
   "metadata": {},
   "outputs": [
    {
     "name": "stdout",
     "output_type": "stream",
     "text": [
      "5\n"
     ]
    }
   ],
   "source": [
    "print(x)"
   ]
  },
  {
   "cell_type": "markdown",
   "metadata": {},
   "source": [
    "<strong>Comment</strong>: In Python, comments begin with the <code>#</code> symbol.  This code is not read by the interpreter."
   ]
  },
  {
   "cell_type": "code",
   "execution_count": 5,
   "metadata": {},
   "outputs": [],
   "source": [
    "# This is a comment\n",
    "# Any line starting with a # will not be read by the interpreter\n",
    "# x = 5\n",
    "# print(x)"
   ]
  },
  {
   "cell_type": "markdown",
   "metadata": {},
   "source": [
    "<strong>Operators</strong>: <code>*</code> operator multiplies numbers as expected, but it is also overloaded to allow for [string]*[number].  This will cause the string to be repeated that many times.  The <code>+</code> operator is also overloaded, adding numbers or joining strings."
   ]
  },
  {
   "cell_type": "code",
   "execution_count": 1,
   "metadata": {},
   "outputs": [
    {
     "name": "stdout",
     "output_type": "stream",
     "text": [
      "word \n",
      "word word word word word \n",
      "word \n",
      "word word \n"
     ]
    }
   ],
   "source": [
    "word = \"word \"\n",
    "print(word)\n",
    "word = word * 5\n",
    "print(word)\n",
    "\n",
    "word = \"word \"\n",
    "print(word)\n",
    "word = word + word\n",
    "print(word)"
   ]
  },
  {
   "cell_type": "markdown",
   "metadata": {},
   "source": [
    "See this table for a larger list of Python operators.\n",
    "\n",
    "<table>\n",
    "<tr>\n",
    "    <td>Operator</td>\n",
    "    <td>Name</td>\n",
    "    <td>Description</td>\n",
    "</tr>\n",
    "<tr>\n",
    "    <td style=\"text-align:center\"><math xmlns='http://www.w3.org/1998/Math/MathML'> <mi> a </mi> <mo> + </mo> <mi> b </mi> </math></td>\n",
    "    <td>Addition</td>\n",
    "    <td>Sum of <math><mi>a</mi></math> and <math><mi>b</mi></math></td>\n",
    "</tr>\n",
    "<tr>\n",
    "    <td style=\"text-align:center\"><math xmlns='http://www.w3.org/1998/Math/MathML'> <mi> a </mi> <mo> - </mo> <mi> b </mi> </math></td>\n",
    "    <td>Subtraction</td>\n",
    "    <td>Difference of <math><mi>a</mi></math> and <math><mi>b</mi></math></td>\n",
    "</tr>\n",
    "<tr>\n",
    "    <td style=\"text-align:center\"><math xmlns='http://www.w3.org/1998/Math/MathML'> <mi> a </mi> <mo> * </mo> <mi> b </mi> </math></td>\n",
    "    <td>Multiplication</td>\n",
    "    <td>Product of <math><mi>a</mi></math> and <math><mi>b</mi></math></td>\n",
    "</tr>\n",
    "<tr>\n",
    "    <td style=\"text-align:center\"><math xmlns='http://www.w3.org/1998/Math/MathML'> <mi> a </mi> <mo> / </mo> <mi> b </mi> </math></td>\n",
    "    <td>True Division</td>\n",
    "    <td>Quotient of <math><mi>a</mi></math> and <math><mi>b</mi></math></td>\n",
    "</tr>\n",
    "<tr>\n",
    "    <td style=\"text-align:center\"><math xmlns='http://www.w3.org/1998/Math/MathML'> <mi> a </mi> <mo> // </mo> <mi> b </mi> </math></td>\n",
    "    <td>Integer Division</td>\n",
    "    <td>Quotient of <math><mi>a</mi></math> and <math><mi>b</mi></math>, removing fractional parts</td>\n",
    "</tr>\n",
    "<tr>\n",
    "    <td style=\"text-align:center\"><math xmlns='http://www.w3.org/1998/Math/MathML'> <mi> a </mi> <mo> % </mo> <mi> b </mi> </math></td>\n",
    "    <td>Modulus</td>\n",
    "    <td>Integer remainder after division of <math><mi>a </mi></math> by <math><mi>b</mi></math></td>\n",
    "</tr>\n",
    "<tr>\n",
    "    <td style=\"text-align:center\"><math xmlns='http://www.w3.org/1998/Math/MathML'> <mi> a </mi> <mo> ** </mo> <mi> b </mi> </math></td>\n",
    "    <td>Exponentiation</td>\n",
    "    <td><math><mi>a </mi></math>raised to the power of <math><mi>b</mi></math></td>\n",
    "</tr>\n",
    "<tr>\n",
    "    <td style=\"text-align:center\"><math xmlns='http://www.w3.org/1998/Math/MathML'> <mi> -a </mi></math></td>\n",
    "    <td>Negation</td>\n",
    "    <td>The negative of <math><mi>a</mi></math></td>\n",
    "</tr>"
   ]
  },
  {
   "cell_type": "markdown",
   "metadata": {},
   "source": [
    "<Strong>Builtin Functions</strong>: There are several builtin functions available out of the box.  I'll describe them briefly and then demonstrate their use (unless previously demonstrated) in the code below.<br><br>\n",
    "<p>\n",
    "<code>print()</code> - this function can take an input and displays the input in the terminal<br>\n",
    "<code>type()</code> - this function takes one input and returns the type for the input</br>\n",
    "<code>min()</code> - this function takes one or more arguments and returns the minimum value for the arguments<br>\n",
    "<code>max()</code> - this function takes one or more arguments and returns the maximum value for the arguments.<br>\n",
    "<code>abs()</code> - this function takes in one argument and returns the absolute value of the argument<br>\n",
    "<code>int()</code> - typecast the argument as an integer type; returns the integer part of the input<br>\n",
    "<code>float()</code> - typecast the arguemnt as a float type<br>\n",
    "</p>"
   ]
  },
  {
   "cell_type": "code",
   "execution_count": 6,
   "metadata": {},
   "outputs": [
    {
     "name": "stdout",
     "output_type": "stream",
     "text": [
      "8\n",
      "<class 'str'>\n",
      "-1\n",
      "57\n",
      "33\n",
      "-5\n",
      "3.0\n"
     ]
    }
   ],
   "source": [
    "print(3+5)\n",
    "print(type(\"what type am I?\"))\n",
    "print(min(-1,3,57))\n",
    "print(max(-1,3,57))\n",
    "print(abs(-33))\n",
    "print(int(-5.7))\n",
    "print(float(3))"
   ]
  },
  {
   "cell_type": "markdown",
   "metadata": {},
   "source": [
    "<h3 id=\"functions\">Functions and Getting Help</h3>\n",
    "\n",
    "<strong>Getting Help</strong>: <code>help()</code> is a function that takes as its input the name of other functions.  It will describe what the function does for all vanilla functions.  Most package functions are likely to be properly implemented to also give a description.  Any user-defined functions would need to be properly implemented with a <strong>docstring</strong> to return something on a <code>help()</code> call.  Careful to not include () in the input of help.  We will look at an example of this after explaining how to create your own functions."
   ]
  },
  {
   "cell_type": "code",
   "execution_count": 9,
   "metadata": {},
   "outputs": [
    {
     "name": "stdout",
     "output_type": "stream",
     "text": [
      "Help on built-in function abs in module builtins:\n",
      "\n",
      "abs(x, /)\n",
      "    Return the absolute value of the argument.\n",
      "\n"
     ]
    }
   ],
   "source": [
    "help(abs)"
   ]
  },
  {
   "cell_type": "markdown",
   "metadata": {},
   "source": [
    "<strong>Defining Functions</strong>: In Python, to create your own function, start off with the keyword <code>def</code> followed by the name and a colon.  Anything indented relative to the definition will be included as part of the function.  See the example below.\n"
   ]
  },
  {
   "cell_type": "code",
   "execution_count": 18,
   "metadata": {},
   "outputs": [
    {
     "name": "stdout",
     "output_type": "stream",
     "text": [
      "something3\n",
      "2else\n",
      "finally1\n"
     ]
    }
   ],
   "source": [
    "def doSomething(a, b=\"something\"):\n",
    "    return (str(b) + str(a))\n",
    "\n",
    "doSomething(3)\n",
    "doSomething(\"else\",2)\n",
    "doSomething(1,\"finally\")"
   ]
  },
  {
   "cell_type": "markdown",
   "metadata": {},
   "source": [
    "<Strong>Docstrings</strong>: As mentioned earlier, the <code>help()</code> function can describe the workings of a function but falls short on user defined functions unless the developer takes care to provide a docstring.  To accomplish this, include a triple-quoted string <em>immediately</em> following the header to a function, opening <em>and</em> closing the docstring with the <code>\"\"\"</code>.  Upon doing so, this will be displayed by a <code>help()</code> call on that function.  Note, it is good practice to also include an example function call.  Let us look at an example of this."
   ]
  },
  {
   "cell_type": "code",
   "execution_count": 25,
   "metadata": {},
   "outputs": [
    {
     "name": "stdout",
     "output_type": "stream",
     "text": [
      "Help on function doSomething in module __main__:\n",
      "\n",
      "doSomething(a, b='something')\n",
      "    Return the concatenation of b + a as strings\n",
      "    \n",
      "    >>> doSomething(\"else\",2)\n",
      "    2else\n",
      "\n",
      "----------------------\n",
      "Help on function doSomething in module __main__:\n",
      "\n",
      "doSomething(a, b='something')\n",
      "    Return the concatenation of b + a as strings\n",
      "    \n",
      "    >>> doSomething(\"else\",2)\n",
      "    2else\n",
      "\n"
     ]
    }
   ],
   "source": [
    "help(doSomething)\n",
    "print(\"----------------------\")\n",
    "\n",
    "def doSomething(a, b=\"something\"):\n",
    "    \"\"\"Return the concatenation of b + a as strings\n",
    "    \n",
    "    >>> doSomething(\"else\",2)\n",
    "    2else\n",
    "    \"\"\"\n",
    "    return (str(b) + str(a))\n",
    "help(doSomething)"
   ]
  },
  {
   "cell_type": "markdown",
   "metadata": {},
   "source": [
    "Not all functions require a return.  Python functions without a return will simply return <code>None</code> which is similar to <code>null</code> in other languages.  \n",
    "\n",
    "<strong>Default arguments</strong>: In the <code>doSomething</code> function, there are two types of arguments - non-default and default.  When writing your own functions, non-default arguments must come first in the list of arguments.  Default arguments are optional, if they are not included in the call, then they will take on the default value assigned in the definition.  This was demonstrated earlier.\n",
    "\n",
    "<strong>Functions of Functions</strong>: In Python, functions can be arguments of other functions.  See the example below."
   ]
  },
  {
   "cell_type": "code",
   "execution_count": 26,
   "metadata": {},
   "outputs": [
    {
     "name": "stdout",
     "output_type": "stream",
     "text": [
      "10\n",
      "100\n"
     ]
    }
   ],
   "source": [
    "def multByTen(x):\n",
    "    return 10 * x\n",
    "\n",
    "def call(fn, arg):\n",
    "    \"\"\"Call fn on arg\"\"\"\n",
    "    return fn(arg)\n",
    "\n",
    "def squared_call(fn,arg):\n",
    "    \"\"\"Call fn on the result of calling fn on arg\"\"\"\n",
    "    return fn(fn(arg))\n",
    "\n",
    "print(\n",
    "    call(multByTen, 1),\n",
    "    squared_call(multByTen, 1),\n",
    "    sep = '\\n'\n",
    ")"
   ]
  },
  {
   "cell_type": "markdown",
   "metadata": {},
   "source": [
    "A slightly more practical example is seen here.  "
   ]
  },
  {
   "cell_type": "code",
   "execution_count": 30,
   "metadata": {},
   "outputs": [
    {
     "name": "stdout",
     "output_type": "stream",
     "text": [
      "Which number is biggest?\n",
      "106\n",
      "Which number is the biggest mod 7?\n",
      "51\n"
     ]
    }
   ],
   "source": [
    "def mod_7(x):\n",
    "    \"\"\"Return the remainder of x after dividing by 7\"\"\"\n",
    "    return x % 7\n",
    "\n",
    "print(\n",
    "    'Which number is biggest?',\n",
    "    max(106, 51, 14),\n",
    "    'Which number is the biggest mod 7?',\n",
    "    max(106, 51, 14, key=mod_7),\n",
    "    sep = '\\n'\n",
    ")"
   ]
  }
 ],
 "metadata": {
  "interpreter": {
   "hash": "b577f2f4b63812717168397c29dfaaf726a6a9de6b9f5d622bf85c3539fa9c12"
  },
  "kernelspec": {
   "display_name": "Python 3.9.5 64-bit",
   "name": "python3"
  },
  "language_info": {
   "codemirror_mode": {
    "name": "ipython",
    "version": 3
   },
   "file_extension": ".py",
   "mimetype": "text/x-python",
   "name": "python",
   "nbconvert_exporter": "python",
   "pygments_lexer": "ipython3",
   "version": "3.9.5"
  },
  "orig_nbformat": 3
 },
 "nbformat": 4,
 "nbformat_minor": 2
}